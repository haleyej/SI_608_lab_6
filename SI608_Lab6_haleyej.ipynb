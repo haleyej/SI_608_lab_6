{
  "cells": [
    {
      "cell_type": "markdown",
      "metadata": {
        "id": "QA2OHshZyCcs"
      },
      "source": [
        "# Lab 6\n",
        "\n",
        "**Due:** Monday, December 4 5PM EST.\n",
        "\n",
        "**Instructions:** Please submit your files to the Dropbox link posted on Cavnas. Remember to rename the notebook by filling in your uniqname. If you have _additional_ supplementary files (e.g., images), please also attach them in your submission.\n",
        "\n",
        "**Collaboration policy:** You may discuss high level ideas with others but specific answers need to be your own. Please indicate with whom you exchanged any ideas."
      ]
    },
    {
      "cell_type": "markdown",
      "metadata": {
        "id": "8mEyXo2PyCct"
      },
      "source": [
        "## Problem 1: Clique Percolation Method (CPM)\n",
        "\n",
        "### Part a) apply clustering\n",
        "\n",
        "Consider the following graph. Apply CPM with k=3 and identify the communities accordingly. Please do this by hand and show your work process.\n",
        "\n"
      ]
    },
    {
      "cell_type": "markdown",
      "source": [
        "![graph1.png](data:image/png;base64,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)"
      ],
      "metadata": {
        "id": "dEMNBzgdKBpk"
      }
    },
    {
      "cell_type": "markdown",
      "metadata": {
        "id": "XTZ98xVnyCcu"
      },
      "source": [
        "[YOUR ANSWER HERE]"
      ]
    },
    {
      "cell_type": "markdown",
      "metadata": {
        "id": "h2ZpQWVOyCcu"
      },
      "source": [
        "### Part b) compare with groundtruth data\n",
        "\n",
        "Imagine you learned that there are three real communities:  \n",
        "C1 = {1,2,3,4}   \n",
        "C2 = {5,6,8}  \n",
        "C3 = {7}  \n",
        "\n",
        "Calculate the accuracy (using accuracy of pairwise community memberships) of the CPM solution you computed above.  \n",
        "Please do this by hand and show your work process."
      ]
    },
    {
      "cell_type": "markdown",
      "metadata": {
        "id": "f2dJR2x4yCcv"
      },
      "source": [
        "[YOUR ANSWER HERE]"
      ]
    },
    {
      "cell_type": "markdown",
      "metadata": {
        "id": "GqNxTbOtyCcv"
      },
      "source": [
        "## Problem 2: Betweenness Clustering\n",
        "\n",
        "In an earlier lab you practiced using `girvan_newman()` to perform betweenness clustering. In this part you'll build the function from scratch to understand how it actually operates. Let's use a random ER graph with parameters: `n = 100`, `p = 0.05`, `seed = 2666` (so the results are reproducible).\n",
        "    \n",
        "Please read through the comment and return the exact output as required.\n",
        "    \n",
        "### Part a) build the function"
      ]
    },
    {
      "cell_type": "code",
      "execution_count": null,
      "metadata": {
        "id": "a4y3AILkyCcv"
      },
      "outputs": [],
      "source": [
        "# 0. generate an ER graph\n",
        "\n",
        "# YOUR CODE HERE"
      ]
    },
    {
      "cell_type": "code",
      "execution_count": null,
      "metadata": {
        "id": "gSZkzsl9yCcw"
      },
      "outputs": [],
      "source": [
        "# 1. define a function that returns the most valuable edge in a graph (with the highest betweenness)\n",
        "# - one input, g --> a networkx graph object\n",
        "# - one output, the most valuable edge; should be a tuple, e.g., (node1, node2)\n",
        "\n",
        "def fetch_most_valuable_edge(g):\n",
        "\n",
        "    # YOUR CODE HERE\n",
        "\n",
        "    return this_edge"
      ]
    },
    {
      "cell_type": "code",
      "execution_count": null,
      "metadata": {
        "id": "P_BeiF92yCcx"
      },
      "outputs": [],
      "source": [
        "# 2. define a function that performs one round of betweenness clustering every time you call it\n",
        "# - two inputs: g and the fetch_edge function (you defined in the last cell)\n",
        "# - one output: a sorted community list (sorted by community size, descending)\n",
        "# ---- community list is a list of communities detected, each community itself is a list of nodes\n",
        "# ---- e.g., for two communities (node a, node b), (node c, node d, node e),\n",
        "# ---- the output should look like this: [[c,d,e], [a,b]]\n",
        "\n",
        "def perform_betw_clustering(g, fetch_edge):\n",
        "\n",
        "    # If the graph is already empty, simply return its connected components.\n",
        "    if g.number_of_edges() == 0:\n",
        "        yield list(nx.connected_components(g))\n",
        "\n",
        "    # use a copy of g so that you won't modify the original graph\n",
        "    g_cp = g.copy().to_undirected()\n",
        "\n",
        "    # and remove self-loop\n",
        "    g_cp.remove_edges_from(nx.selfloop_edges(g))\n",
        "\n",
        "    # while there are still edges in the graph\n",
        "    while g_cp.number_of_edges() > 0:\n",
        "\n",
        "        # YOUR CODE HERE\n",
        "        # Hint:\n",
        "        # 1. count # of components\n",
        "        # 2. every time you remove one most valuable edge, count # of compoents again\n",
        "        # 3. if the graph breaks into more compoents, stop removing edges\n",
        "        # 4. return the community tuple\n",
        "\n",
        "        yield community_list"
      ]
    },
    {
      "cell_type": "markdown",
      "metadata": {
        "id": "3PcK3cewyCcx"
      },
      "source": [
        "### Part b) test the function\n",
        "\n",
        "Now let's see try generating clusters using your function. Perform 3 round of betweenness clustering on the ER graph (with 100 nodes).   \n",
        "\n",
        "Report the following:\n",
        "- detected communities (print out `community_list`)  in each round\n",
        "- number of communities in each round\n",
        "- number of edges removed in each round\n",
        "- max community size in each round (# of nodes in the largest community)\n",
        "- the modularity score in each round (you can use the modularity in `networkx`)"
      ]
    },
    {
      "cell_type": "code",
      "execution_count": null,
      "metadata": {
        "id": "5g2U9Ve3yCcy"
      },
      "outputs": [],
      "source": [
        "# YOUR CODE HERE"
      ]
    },
    {
      "cell_type": "markdown",
      "metadata": {
        "id": "PwxpqMfYyCcy"
      },
      "source": [
        "## Problem 3: Modularity Clustering\n",
        "\n",
        "For this question, you are going to use the data shared on: http://snap.stanford.edu/data/email-Eu-core.html. This network was generated using email data from a large European research institution and it includes ground truth data about communities that individuals belong to. You will try to use two different modularity clustering algorithm and then evaluate their accuracy using accuracy of pairwise community memberships."
      ]
    },
    {
      "cell_type": "markdown",
      "metadata": {
        "id": "sEeabzhbyCcy"
      },
      "source": [
        "### Part a) load the graph\n",
        "\n",
        "Load the graph in `email-Eu-core.txt`, convert it to an undirected graph, and print out graph information (using `print(g)`)."
      ]
    },
    {
      "cell_type": "code",
      "execution_count": null,
      "metadata": {
        "id": "OWuhngG7yCcz"
      },
      "outputs": [],
      "source": [
        "# YOUR CODE HERE"
      ]
    },
    {
      "cell_type": "markdown",
      "metadata": {
        "id": "Otl5L8eqyCcz"
      },
      "source": [
        "### Part b) apply modularity clustering\n",
        "\n",
        "Find the communities using modularity-based clustering.   \n",
        "Report 1) the number of communities you found, and 2) the number of nodes in the largest community."
      ]
    },
    {
      "cell_type": "code",
      "execution_count": null,
      "metadata": {
        "id": "CtcXenA_yCcz"
      },
      "outputs": [],
      "source": [
        "# YOUR CODE HERE"
      ]
    },
    {
      "cell_type": "markdown",
      "metadata": {
        "id": "A3ZdBZ1UyCcz"
      },
      "source": [
        "### Part c) evaluate the result\n",
        "\n",
        "Load the community membership ground-truth data (print the number of communities in ground-truth), and compute the accuracy (using accuracy of pairwise community memberships) for the communities detected in 3b."
      ]
    },
    {
      "cell_type": "markdown",
      "metadata": {
        "id": "OZOxUngxyCcz"
      },
      "source": [
        "## Problem 4: Random Walk\n",
        "In this problem, you will use two different ways to compute the stationary distribution on a randomly generated ER graph."
      ]
    },
    {
      "cell_type": "markdown",
      "metadata": {
        "id": "YaFHOoqZyCc0"
      },
      "source": [
        "### Part a) Load the graph and construct the transition matrix.\n",
        "Load the graph in `p3_graph.gml` and print out graph information (using `pring(g)`).  \n",
        "Suppose the transition probability is inversely proportional to the out-degree of a node, namely $p(i \\rightarrow j) = \\frac{1}{outdegree(i)}$.  "
      ]
    },
    {
      "cell_type": "code",
      "execution_count": null,
      "metadata": {
        "id": "fpU6S2TcyCc0"
      },
      "outputs": [],
      "source": [
        "import networkx as nx\n",
        "import numpy as np\n",
        "\n",
        "g = # Your Code Here\n",
        "\n",
        "tran_matrix = #Your Code Here. Feel free to add additional code to get the transition matrix\n",
        "\n",
        "print(tran_matrix)\n"
      ]
    },
    {
      "cell_type": "markdown",
      "metadata": {
        "id": "MvPkWcBMyCc0"
      },
      "source": [
        "### Part b) Numerical Method\n",
        "Implement the function that iteratively updates the state distribution. Then, use that to calculate the stationary distribution and report the number of steps it takes for convergence.  \n",
        "We will define convergence as the difference between the two consequetive steps' results being smaller than $1\\times 10^{-5}$. And the difference can be calculated by the largest absolute values of element-wise subtraction between two matrices. Namely, $diff(A, B) = \\max_{i, j} |a_{ij} - b_{ij}|$.  \n",
        "You can assume that every node has an equal probability at the initial stage."
      ]
    },
    {
      "cell_type": "code",
      "execution_count": null,
      "metadata": {
        "id": "4ruR09TwyCc0"
      },
      "outputs": [],
      "source": [
        "def iterate_state_dis(state_dis, tran_matrix, k):\n",
        "    # Input:\n",
        "    #   state_dis: the state distribution vector (dimension n * 1)\n",
        "    #   tran_matrix: the transition matrix (dimension n * n)\n",
        "    #   k: the steps of iteration\n",
        "\n",
        "    # Your Code Here\n",
        "\n",
        "    return state_dis"
      ]
    },
    {
      "cell_type": "code",
      "execution_count": null,
      "metadata": {
        "id": "rDlsgwAtyCc1"
      },
      "outputs": [],
      "source": [
        "# Calculate the stationary distribution and report the step of iteration\n",
        "\n",
        "#1. Define the initial state distribution\n",
        "state_dis = # Your Code Here\n",
        "\n",
        "#2. Get the stationary distribution\n",
        "#Feel free to add additional code to calculate the following variables\n",
        "step_count = # Your Code Here\n",
        "stationary_dis_b = #Your Code Here\n",
        "\n",
        "#3. Report the step\n",
        "print(f'It tooks {step_count} steps to converge.')"
      ]
    },
    {
      "cell_type": "markdown",
      "metadata": {
        "id": "i62IBOrPyCc1"
      },
      "source": [
        "### Part c) Analytical Method\n",
        "Get the stationary distribution by solving the linear system.  \n",
        "Hint: Since $\\pi = \\pi P$, the stationary distribution is a left eigenvector of the transition matrix with eigenvalue 1. You can take the transpose of both sides ($\\pi^T = P^T\\pi$). Thus, we can get the stationary distribution by calculating the right eigenvector of  $P^T$. And we can do this via the [eig](https://numpy.org/doc/stable/reference/generated/numpy.linalg.eig.html) method provided by NumPy.\n"
      ]
    },
    {
      "cell_type": "code",
      "execution_count": null,
      "metadata": {
        "id": "_KlpZiqTyCc1"
      },
      "outputs": [],
      "source": [
        "#1. Get the eigenvectors and eigenvalues for the transpose of the transition matrix\n",
        "eig_vals, eig_vecs = #Your Code Here\n",
        "\n",
        "#2. Print the eigenvalues to find \"1\"\n",
        "print(eig_vals)"
      ]
    },
    {
      "cell_type": "code",
      "execution_count": null,
      "metadata": {
        "id": "hMA7N8bGyCc2"
      },
      "outputs": [],
      "source": [
        "#3. Get the corresponding eigenvector are what we are looking for\n",
        "stationary_dis_c = #Your Code Here\n",
        "\n",
        "#4. We need to scale the vector to make sure the all value are real and non-negative and the sum is 1\n",
        "stationary_dis_c = #Your Code Here\n",
        "\n",
        "#5. Report the difference\n",
        "print(stationary_dis_c)"
      ]
    }
  ],
  "metadata": {
    "kernelspec": {
      "display_name": "Python 3.9.5 ('base')",
      "language": "python",
      "name": "python3"
    },
    "language_info": {
      "codemirror_mode": {
        "name": "ipython",
        "version": 3
      },
      "file_extension": ".py",
      "mimetype": "text/x-python",
      "name": "python",
      "nbconvert_exporter": "python",
      "pygments_lexer": "ipython3",
      "version": "3.9.5"
    },
    "toc": {
      "base_numbering": 1,
      "nav_menu": {},
      "number_sections": true,
      "sideBar": true,
      "skip_h1_title": false,
      "title_cell": "Table of Contents",
      "title_sidebar": "Contents",
      "toc_cell": false,
      "toc_position": {
        "height": "calc(100% - 180px)",
        "left": "10px",
        "top": "150px",
        "width": "390.824px"
      },
      "toc_section_display": true,
      "toc_window_display": true
    },
    "vscode": {
      "interpreter": {
        "hash": "c8096d1454e3624a326c6294fdb446e72542397b4160fa8318f9dc24bee15a75"
      }
    },
    "colab": {
      "provenance": []
    }
  },
  "nbformat": 4,
  "nbformat_minor": 0
}